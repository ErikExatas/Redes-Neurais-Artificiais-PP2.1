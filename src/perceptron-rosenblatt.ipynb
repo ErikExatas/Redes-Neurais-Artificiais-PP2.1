{
 "cells": [
  {
   "cell_type": "markdown",
   "id": "755f9ed6-b1de-4552-bab4-2e87aeb9d043",
   "metadata": {},
   "source": [
    "Neste projeto prático, o objetivo é implementar o algoritmo de treinamento mediante Aprendizado Supervisionado \n",
    "do neurônio Perceptron de Rosenblatt aplicado em problemas de classificação. "
   ]
  },
  {
   "cell_type": "markdown",
   "id": "11a8d255",
   "metadata": {},
   "source": [
    "Equipe:\n",
    "1. Afonso Ramos Garcia Neto | ifonso.developer@gmail.com | iFonso - 2215080047\n",
    "2. Erik Gustavo Lima de Oliveira | erik.exatas10@gmail.com | ErikExatas - 2115080049\n",
    "3. David Augusto De Oliveira E Silva | david-augusto-silva - 2115080006\n",
    "4. Lilian Iazzai De Souza Oliveira | lilianiazzai - 2215080018\n",
    "5. Vitor Nascimento Aguiar | Vtaguiar1909 - 2115080055"
   ]
  },
  {
   "cell_type": "code",
   "execution_count": 6,
   "id": "a5c26a91-c5e3-45cb-89bf-157f36d7032e",
   "metadata": {},
   "outputs": [
    {
     "name": "stdout",
     "output_type": "stream",
     "text": [
      "3\n"
     ]
    }
   ],
   "source": [
    "# identificador do arquivo\n",
    "id = (7+9+6+8+5)%4\n",
    "print(id)"
   ]
  },
  {
   "cell_type": "code",
   "execution_count": 5,
   "id": "cd857b0a-c7d8-403a-8e17-2c53c77f3be1",
   "metadata": {},
   "outputs": [],
   "source": [
    "# bibliotecas necessárias\n",
    "import numpy as np\n",
    "import random\n",
    "import matplotlib.pyplot as plt\n",
    "import math\n",
    "import sklearn"
   ]
  }
 ],
 "metadata": {
  "kernelspec": {
   "display_name": "Python 3",
   "language": "python",
   "name": "python3"
  },
  "language_info": {
   "codemirror_mode": {
    "name": "ipython",
    "version": 3
   },
   "file_extension": ".py",
   "mimetype": "text/x-python",
   "name": "python",
   "nbconvert_exporter": "python",
   "pygments_lexer": "ipython3",
   "version": "3.13.2"
  }
 },
 "nbformat": 4,
 "nbformat_minor": 5
}
