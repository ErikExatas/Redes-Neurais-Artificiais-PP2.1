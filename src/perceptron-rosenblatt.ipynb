{
 "cells": [
  {
   "cell_type": "markdown",
   "id": "755f9ed6-b1de-4552-bab4-2e87aeb9d043",
   "metadata": {},
   "source": [
    "# Projeto Prático Perceptron Rosenblatt\n",
    "\n",
    "Neste projeto prático, o objetivo é implementar o algoritmo de treinamento mediante Aprendizado Supervisionado \n",
    "do neurônio Perceptron de Rosenblatt aplicado em problemas de classificação.\n",
    "\n",
    "## Equipe:\n",
    "\n",
    "1. Afonso Henrique Torres Lucas | ifonso.developer@gmail.com | iFonso - 2215080047\n",
    "2. Erik Gustavo Lima de Oliveira | erik.exatas10@gmail.com | ErikExatas - 2115080049\n",
    "3. David Augusto De Oliveira E Silva | david-augusto-silva - 2115080006\n",
    "4. Lilian Iazzai De Souza Oliveira | lilianiazzai - 2215080018\n",
    "5. Vitor Nascimento Aguiar | Vtaguiar1909 - 2115080055"
   ]
  },
  {
   "cell_type": "code",
   "execution_count": 212,
   "id": "a5c26a91-c5e3-45cb-89bf-157f36d7032e",
   "metadata": {},
   "outputs": [
    {
     "name": "stdout",
     "output_type": "stream",
     "text": [
      "3\n"
     ]
    }
   ],
   "source": [
    "# identificador do arquivo\n",
    "id = (7+9+6+8+5)%4\n",
    "print(id)"
   ]
  },
  {
   "cell_type": "code",
   "execution_count": 213,

   "id": "cd857b0a-c7d8-403a-8e17-2c53c77f3be1",
   "metadata": {},
   "outputs": [],
   "source": [
    "# Bibliotecas\n",
    "import math\n",
    "import random\n",
    "import numpy as np\n",
    "import matplotlib.pyplot as plt\n",
    "import sklearn.metrics as skm\n",
    "from prettytable import PrettyTable\n",
    "\n",
    "# Módulos\n",
    "from modules.perceptron import Perceptron",
    "import prettytable"

   ]
  },
  {
   "cell_type": "code",
   "execution_count": 214,
   "id": "86d706b8-a676-4490-a1c7-7aacdaf6ebe9",
   "metadata": {},
   "outputs": [],
   "source": [
    "def get_ndarray_from_file(filename: str) -> np.ndarray:\n",
    "    \"\"\"Formato dos dados -> (m, 1, 3) : [[[x_1, x_2, y_d]], ...]\"\"\"\n",
    "    return np.squeeze(np.fromfile(filename, dtype=np.float64).reshape(-1, 1, 3))"
   ]
  },
  {
   "cell_type": "code",
   "execution_count": 215,
   "id": "e9fc9402-b890-47ac-b095-a6d2ee36dfbf",
   "metadata": {},
   "outputs": [],
   "source": [
    "def split_data(data: np.ndarray) -> tuple[np.ndarray, np.ndarray]:\n",
    "    \"\"\"Faz split do dataset -> (m, 2), (m, 1)\"\"\"\n",
    "    return data[:, :2], data[:, 2].reshape(-1, 1)"
   ]
  },
  {
   "cell_type": "code",
   "execution_count": 216,
   "id": "ef857ab4-98f0-4b84-b41a-0d91a8269177",
   "metadata": {},
   "outputs": [
    {
     "name": "stdout",
     "output_type": "stream",
     "text": [
      "data: (1000, 3) -> [-363.7884  244.1423    0.    ]\n",
      "X: (1000, 2) | y: (1000, 1)\n"
     ]
    }
   ],
   "source": [
    "data = get_ndarray_from_file(f\"./data/dataAll.txt\")\n",
    "X, y = split_data(data)\n",
    "\n",
    "print(f\"data: {data.shape} -> {data[0]}\")\n",
    "print(f\"X: {X.shape} | y: {y.shape}\")"
   ]
  },
  {
   "cell_type": "markdown",
   "id": "eeb7d563-8f2b-406a-bcb5-1186ea3a6a57",
   "metadata": {},
   "source": [
    "### 2.2 - Experimentação\n",
    "\n",
    "Nesta parte, as equipes usarão o seu identificador para trabalhar com um arquivo específico. Usaremos, então, o arquivo ```data3.txt```.\n",
    "\n",
    "Aproveitando o algoritmo construído na seção 2.1, serão executadas 10 repetições deste para seguintes configurações: $\\eta \\times I = \\{0.4, 0.1, 0.01\\} \\times \\{(-100, +100), (-0.5, +0.5)\\}$, em que I é o intervalo utilizado para distribuição uniforme do valor dos pesos. No total, serão feitas 60 execuções: 10 execuções para cada uma das 6 configurações."
   ]
  },
  {
   "cell_type": "code",
   "execution_count": 217,
   "id": "fca2c8ed",
   "metadata": {},
   "outputs": [],
   "source": [
    "tabela = PrettyTable([\n",
    "    \"Taxa de aprendizado\",\n",
    "    \"Intervalo de Pesos\",\n",
    "    \"Quantidade de Ajustes\",\n",
    "    \"Menor número de épocas para convergência\"\n",
    "])"
   ]
  },
  {
   "cell_type": "code",
   "execution_count": 218,
   "id": "c2f5bbc0",
   "metadata": {},
   "outputs": [],
   "source": [
    "data = get_ndarray_from_file(f\"./data/data{id}.txt\")\n",
    "X3, y3 = split_data(data)"
   ]
  },
  {
   "cell_type": "code",
   "execution_count": 219,
   "id": "103c3a8d",
   "metadata": {},
   "outputs": [],
   "source": [
    "intervals = ((-0.5, 0.5), (-100, 100))\n",
    "learning_rates = (0.4, 0.1, 0.01)"
   ]
  },
  {
   "cell_type": "code",
   "execution_count": 220,
   "id": "f864bc49",
   "metadata": {},
   "outputs": [],
   "source": [
    "# execução do algoritmo para o intervalo (-0.5, 0.5)\n",
    "for l in learning_rates:\n",
    "    epochs=[]\n",
    "    adjustments = []\n",
    "    for i in range(10):\n",
    "        p1 = Perceptron(2, intervals[0])\n",
    "        e = p1.train(X3, y3, l)\n",
    "        epochs.append(e)\n",
    "        adjustments.append(e)\n",
    "    avg = np.average(adjustments)\n",
    "    std_dev = np.std(adjustments)\n",
    "    min_epochs = min(epochs)\n",
    "\n",
    "    tabela.add_row([\n",
    "        f\"{l}\",\n",
    "        f\"{intervals[0][0]}, {intervals[0][1]}\",\n",
    "        f\"{avg:.1f} +- {std_dev:.1f}\",\n",
    "        f\"{min_epochs}\"])\n"
   ]
  },
  {
   "cell_type": "code",
   "execution_count": 221,
   "id": "4e112eef",
   "metadata": {},
   "outputs": [],
   "source": [
    "# execução do algoritmo para o intervalo (-100, 100)\n",
    "for l in learning_rates:\n",
    "    epochs=[]\n",
    "    adjustments = []\n",
    "    for i in range(10):\n",
    "        p1 = Perceptron(2, intervals[1])\n",
    "        e = p1.train(X3, y3, l)\n",
    "        epochs.append(e)\n",
    "        adjustments.append(e)\n",
    "    avg = np.average(adjustments)\n",
    "    std_dev = np.std(adjustments)\n",
    "    min_epochs = min(epochs)\n",
    "\n",
    "    tabela.add_row([\n",
    "        f\"{l}\",\n",
    "        f\"{intervals[1][0]}, {intervals[1][1]}\",\n",
    "        f\"{avg:.1f} +- {std_dev:.1f}\",\n",
    "        f\"{\"Não convergiu\" if min_epochs < 0 else min_epochs}\"])"
   ]
  },
  {
   "cell_type": "code",
   "execution_count": 222,
   "id": "8a4b383a",
   "metadata": {},
   "outputs": [
    {
     "data": {
      "text/html": [
       "<table>\n",
       "    <thead>\n",
       "        <tr>\n",
       "            <th>Taxa de aprendizado</th>\n",
       "            <th>Intervalo de Pesos</th>\n",
       "            <th>Quantidade de Ajustes</th>\n",
       "            <th>Menor número de épocas para convergência</th>\n",
       "        </tr>\n",
       "    </thead>\n",
       "    <tbody>\n",
       "        <tr>\n",
       "            <td>0.4</td>\n",
       "            <td>-0.5, 0.5</td>\n",
       "            <td>15.3 +- 6.2</td>\n",
       "            <td>3</td>\n",
       "        </tr>\n",
       "        <tr>\n",
       "            <td>0.1</td>\n",
       "            <td>-0.5, 0.5</td>\n",
       "            <td>10.9 +- 7.5</td>\n",
       "            <td>5</td>\n",
       "        </tr>\n",
       "        <tr>\n",
       "            <td>0.01</td>\n",
       "            <td>-0.5, 0.5</td>\n",
       "            <td>15.4 +- 6.8</td>\n",
       "            <td>4</td>\n",
       "        </tr>\n",
       "        <tr>\n",
       "            <td>0.4</td>\n",
       "            <td>-100, 100</td>\n",
       "            <td>12.7 +- 4.8</td>\n",
       "            <td>3</td>\n",
       "        </tr>\n",
       "        <tr>\n",
       "            <td>0.1</td>\n",
       "            <td>-100, 100</td>\n",
       "            <td>44.3 +- 31.8</td>\n",
       "            <td>2</td>\n",
       "        </tr>\n",
       "        <tr>\n",
       "            <td>0.01</td>\n",
       "            <td>-100, 100</td>\n",
       "            <td>300.3 +- 200.8</td>\n",
       "            <td>81</td>\n",
       "        </tr>\n",
       "    </tbody>\n",
       "</table>"
      ],
      "text/plain": [
       "+---------------------+--------------------+-----------------------+------------------------------------------+\n",
       "| Taxa de aprendizado | Intervalo de Pesos | Quantidade de Ajustes | Menor número de épocas para convergência |\n",
       "+---------------------+--------------------+-----------------------+------------------------------------------+\n",
       "|         0.4         |     -0.5, 0.5      |      15.3 +- 6.2      |                    3                     |\n",
       "|         0.1         |     -0.5, 0.5      |      10.9 +- 7.5      |                    5                     |\n",
       "|         0.01        |     -0.5, 0.5      |      15.4 +- 6.8      |                    4                     |\n",
       "|         0.4         |     -100, 100      |      12.7 +- 4.8      |                    3                     |\n",
       "|         0.1         |     -100, 100      |      44.3 +- 31.8     |                    2                     |\n",
       "|         0.01        |     -100, 100      |     300.3 +- 200.8    |                    81                    |\n",
       "+---------------------+--------------------+-----------------------+------------------------------------------+"
      ]
     },
     "execution_count": 222,
     "metadata": {},
     "output_type": "execute_result"
    }
   ],
   "source": [
    "tabela"
   ]
  }
 ],
 "metadata": {
  "kernelspec": {
   "display_name": "neural_net_env",
   "language": "python",
   "name": "python3"
  },
  "language_info": {
   "codemirror_mode": {
    "name": "ipython",
    "version": 3
   },
   "file_extension": ".py",
   "mimetype": "text/x-python",
   "name": "python",
   "nbconvert_exporter": "python",
   "pygments_lexer": "ipython3",
   "version": "3.12.9"
  }
 },
 "nbformat": 4,
 "nbformat_minor": 5
}
