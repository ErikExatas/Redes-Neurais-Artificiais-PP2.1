{
 "cells": [
  {
   "cell_type": "markdown",
   "id": "755f9ed6-b1de-4552-bab4-2e87aeb9d043",
   "metadata": {},
   "source": [
    "# Projeto Prático Perceptron Rosenblatt\n",
    "\n",
    "Neste projeto prático, o objetivo é implementar o algoritmo de treinamento mediante Aprendizado Supervisionado \n",
    "do neurônio Perceptron de Rosenblatt aplicado em problemas de classificação.\n",
    "\n",
    "## Equipe:\n",
    "\n",
    "1. Afonso Henrique Torres Lucas | ifonso.developer@gmail.com | iFonso - 2215080047\n",
    "2. Erik Gustavo Lima de Oliveira | erik.exatas10@gmail.com | ErikExatas - 2115080049\n",
    "3. David Augusto De Oliveira E Silva | david-augusto-silva - 2115080006\n",
    "4. Lilian Iazzai De Souza Oliveira | lilianiazzai - 2215080018\n",
    "5. Vitor Nascimento Aguiar | Vtaguiar1909 - 2115080055"
   ]
  },
  {
   "cell_type": "code",
   "execution_count": 1,
   "id": "a5c26a91-c5e3-45cb-89bf-157f36d7032e",
   "metadata": {},
   "outputs": [
    {
     "name": "stdout",
     "output_type": "stream",
     "text": [
      "3\n"
     ]
    }
   ],
   "source": [
    "# identificador do arquivo\n",
    "id = (7+9+6+8+5)%4\n",
    "print(id)"
   ]
  },
  {
   "cell_type": "code",
   "execution_count": 1,
   "id": "cd857b0a-c7d8-403a-8e17-2c53c77f3be1",
   "metadata": {},
   "outputs": [],
   "source": [
    "import math\n",
    "import random\n",
    "import numpy as np\n",
    "import matplotlib.pyplot as plt\n",
    "import sklearn.metrics as skm\n",
    "import prettytable"
   ]
  },
  {
   "cell_type": "code",
   "execution_count": 3,
   "id": "86d706b8-a676-4490-a1c7-7aacdaf6ebe9",
   "metadata": {},
   "outputs": [
    {
     "name": "stdout",
     "output_type": "stream",
     "text": [
      "(600, 1, 3) \n",
      " [[ 0.06162809 -0.1242566   0.        ]]\n"
     ]
    }
   ],
   "source": [
    "def get_ndarray_from_file(filename: str) -> np.ndarray:\n",
    "    \"\"\" Formato dos dados -> (m, 1, 3) : [[[x_1, x_2, y_d]], ...]\"\"\"\n",
    "    return np.fromfile(filename, dtype=np.float64).reshape(-1, 1, 3)\n",
    "\n",
    "\n",
    "data = get_ndarray_from_file(f\"./data/data{id}.txt\")\n",
    "print(data.shape, \"\\n\", data[0])"
   ]
  },
  {
   "cell_type": "code",
   "execution_count": null,
   "id": "a3ecb5a4-1a19-4e55-9563-1310a432fe69",
   "metadata": {},
   "outputs": [],
   "source": []
  }
 ],
 "metadata": {
  "kernelspec": {
   "display_name": "neural_net_env",
   "language": "python",
   "name": "python3"
  },
  "language_info": {
   "codemirror_mode": {
    "name": "ipython",
    "version": 3
   },
   "file_extension": ".py",
   "mimetype": "text/x-python",
   "name": "python",
   "nbconvert_exporter": "python",
   "pygments_lexer": "ipython3",
   "version": "3.12.9"
  }
 },
 "nbformat": 4,
 "nbformat_minor": 5
}
